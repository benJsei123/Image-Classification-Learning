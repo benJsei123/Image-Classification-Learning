{
 "cells": [
  {
   "cell_type": "code",
   "execution_count": 1,
   "id": "6a683b31",
   "metadata": {
    "_cell_guid": "b1076dfc-b9ad-4769-8c92-a6c4dae69d19",
    "_uuid": "8f2839f25d086af736a60e9eeb907d3b93b6e0e5",
    "execution": {
     "iopub.execute_input": "2024-06-11T14:30:03.618027Z",
     "iopub.status.busy": "2024-06-11T14:30:03.617596Z",
     "iopub.status.idle": "2024-06-11T14:30:04.741502Z",
     "shell.execute_reply": "2024-06-11T14:30:04.739970Z"
    },
    "papermill": {
     "duration": 1.135549,
     "end_time": "2024-06-11T14:30:04.744357",
     "exception": false,
     "start_time": "2024-06-11T14:30:03.608808",
     "status": "completed"
    },
    "tags": []
   },
   "outputs": [
    {
     "name": "stdout",
     "output_type": "stream",
     "text": [
      "/kaggle/input/digit-recognizer/sample_submission.csv\n",
      "/kaggle/input/digit-recognizer/train.csv\n",
      "/kaggle/input/digit-recognizer/test.csv\n"
     ]
    }
   ],
   "source": [
    "# This Python 3 environment comes with many helpful analytics libraries installed\n",
    "# It is defined by the kaggle/python Docker image: https://github.com/kaggle/docker-python\n",
    "# For example, here's several helpful packages to load\n",
    "\n",
    "import numpy as np # linear algebra\n",
    "import pandas as pd # data processing, CSV file I/O (e.g. pd.read_csv)\n",
    "\n",
    "# Input data files are available in the read-only \"../input/\" directory\n",
    "# For example, running this (by clicking run or pressing Shift+Enter) will list all files under the input directory\n",
    "\n",
    "import os\n",
    "for dirname, _, filenames in os.walk('/kaggle/input'):\n",
    "    for filename in filenames:\n",
    "        print(os.path.join(dirname, filename))\n",
    "\n",
    "# You can write up to 20GB to the current directory (/kaggle/working/) that gets preserved as output when you create a version using \"Save & Run All\" \n",
    "# You can also write temporary files to /kaggle/temp/, but they won't be saved outside of the current session"
   ]
  },
  {
   "cell_type": "code",
   "execution_count": 2,
   "id": "154cdb68",
   "metadata": {
    "execution": {
     "iopub.execute_input": "2024-06-11T14:30:04.760552Z",
     "iopub.status.busy": "2024-06-11T14:30:04.760006Z",
     "iopub.status.idle": "2024-06-11T14:30:10.250152Z",
     "shell.execute_reply": "2024-06-11T14:30:10.249163Z"
    },
    "papermill": {
     "duration": 5.501253,
     "end_time": "2024-06-11T14:30:10.252644",
     "exception": false,
     "start_time": "2024-06-11T14:30:04.751391",
     "status": "completed"
    },
    "tags": []
   },
   "outputs": [],
   "source": [
    "train_data = pd.read_csv('/kaggle/input/digit-recognizer/train.csv')\n",
    "test_data = pd.read_csv('/kaggle/input/digit-recognizer/test.csv')"
   ]
  },
  {
   "cell_type": "code",
   "execution_count": 3,
   "id": "5449c009",
   "metadata": {
    "execution": {
     "iopub.execute_input": "2024-06-11T14:30:10.268288Z",
     "iopub.status.busy": "2024-06-11T14:30:10.267464Z",
     "iopub.status.idle": "2024-06-11T14:30:25.123587Z",
     "shell.execute_reply": "2024-06-11T14:30:25.122313Z"
    },
    "papermill": {
     "duration": 14.867002,
     "end_time": "2024-06-11T14:30:25.126182",
     "exception": false,
     "start_time": "2024-06-11T14:30:10.259180",
     "status": "completed"
    },
    "tags": []
   },
   "outputs": [
    {
     "name": "stderr",
     "output_type": "stream",
     "text": [
      "2024-06-11 14:30:12.666426: E external/local_xla/xla/stream_executor/cuda/cuda_dnn.cc:9261] Unable to register cuDNN factory: Attempting to register factory for plugin cuDNN when one has already been registered\n",
      "2024-06-11 14:30:12.666571: E external/local_xla/xla/stream_executor/cuda/cuda_fft.cc:607] Unable to register cuFFT factory: Attempting to register factory for plugin cuFFT when one has already been registered\n",
      "2024-06-11 14:30:12.839950: E external/local_xla/xla/stream_executor/cuda/cuda_blas.cc:1515] Unable to register cuBLAS factory: Attempting to register factory for plugin cuBLAS when one has already been registered\n"
     ]
    }
   ],
   "source": [
    "import tensorflow as tf\n",
    "from tensorflow.keras.models import Sequential\n",
    "from tensorflow.keras.layers import Dense, Flatten, Conv2D, MaxPooling2D\n",
    "from tensorflow.keras.optimizers import Adam\n",
    "from tensorflow.keras.utils import to_categorical"
   ]
  },
  {
   "cell_type": "code",
   "execution_count": 4,
   "id": "2e32327f",
   "metadata": {
    "execution": {
     "iopub.execute_input": "2024-06-11T14:30:25.142227Z",
     "iopub.status.busy": "2024-06-11T14:30:25.141224Z",
     "iopub.status.idle": "2024-06-11T14:30:25.172595Z",
     "shell.execute_reply": "2024-06-11T14:30:25.171451Z"
    },
    "papermill": {
     "duration": 0.042368,
     "end_time": "2024-06-11T14:30:25.175364",
     "exception": false,
     "start_time": "2024-06-11T14:30:25.132996",
     "status": "completed"
    },
    "tags": []
   },
   "outputs": [
    {
     "data": {
      "text/html": [
       "<div>\n",
       "<style scoped>\n",
       "    .dataframe tbody tr th:only-of-type {\n",
       "        vertical-align: middle;\n",
       "    }\n",
       "\n",
       "    .dataframe tbody tr th {\n",
       "        vertical-align: top;\n",
       "    }\n",
       "\n",
       "    .dataframe thead th {\n",
       "        text-align: right;\n",
       "    }\n",
       "</style>\n",
       "<table border=\"1\" class=\"dataframe\">\n",
       "  <thead>\n",
       "    <tr style=\"text-align: right;\">\n",
       "      <th></th>\n",
       "      <th>label</th>\n",
       "      <th>pixel0</th>\n",
       "      <th>pixel1</th>\n",
       "      <th>pixel2</th>\n",
       "      <th>pixel3</th>\n",
       "      <th>pixel4</th>\n",
       "      <th>pixel5</th>\n",
       "      <th>pixel6</th>\n",
       "      <th>pixel7</th>\n",
       "      <th>pixel8</th>\n",
       "      <th>...</th>\n",
       "      <th>pixel774</th>\n",
       "      <th>pixel775</th>\n",
       "      <th>pixel776</th>\n",
       "      <th>pixel777</th>\n",
       "      <th>pixel778</th>\n",
       "      <th>pixel779</th>\n",
       "      <th>pixel780</th>\n",
       "      <th>pixel781</th>\n",
       "      <th>pixel782</th>\n",
       "      <th>pixel783</th>\n",
       "    </tr>\n",
       "  </thead>\n",
       "  <tbody>\n",
       "    <tr>\n",
       "      <th>0</th>\n",
       "      <td>1</td>\n",
       "      <td>0</td>\n",
       "      <td>0</td>\n",
       "      <td>0</td>\n",
       "      <td>0</td>\n",
       "      <td>0</td>\n",
       "      <td>0</td>\n",
       "      <td>0</td>\n",
       "      <td>0</td>\n",
       "      <td>0</td>\n",
       "      <td>...</td>\n",
       "      <td>0</td>\n",
       "      <td>0</td>\n",
       "      <td>0</td>\n",
       "      <td>0</td>\n",
       "      <td>0</td>\n",
       "      <td>0</td>\n",
       "      <td>0</td>\n",
       "      <td>0</td>\n",
       "      <td>0</td>\n",
       "      <td>0</td>\n",
       "    </tr>\n",
       "    <tr>\n",
       "      <th>1</th>\n",
       "      <td>0</td>\n",
       "      <td>0</td>\n",
       "      <td>0</td>\n",
       "      <td>0</td>\n",
       "      <td>0</td>\n",
       "      <td>0</td>\n",
       "      <td>0</td>\n",
       "      <td>0</td>\n",
       "      <td>0</td>\n",
       "      <td>0</td>\n",
       "      <td>...</td>\n",
       "      <td>0</td>\n",
       "      <td>0</td>\n",
       "      <td>0</td>\n",
       "      <td>0</td>\n",
       "      <td>0</td>\n",
       "      <td>0</td>\n",
       "      <td>0</td>\n",
       "      <td>0</td>\n",
       "      <td>0</td>\n",
       "      <td>0</td>\n",
       "    </tr>\n",
       "    <tr>\n",
       "      <th>2</th>\n",
       "      <td>1</td>\n",
       "      <td>0</td>\n",
       "      <td>0</td>\n",
       "      <td>0</td>\n",
       "      <td>0</td>\n",
       "      <td>0</td>\n",
       "      <td>0</td>\n",
       "      <td>0</td>\n",
       "      <td>0</td>\n",
       "      <td>0</td>\n",
       "      <td>...</td>\n",
       "      <td>0</td>\n",
       "      <td>0</td>\n",
       "      <td>0</td>\n",
       "      <td>0</td>\n",
       "      <td>0</td>\n",
       "      <td>0</td>\n",
       "      <td>0</td>\n",
       "      <td>0</td>\n",
       "      <td>0</td>\n",
       "      <td>0</td>\n",
       "    </tr>\n",
       "    <tr>\n",
       "      <th>3</th>\n",
       "      <td>4</td>\n",
       "      <td>0</td>\n",
       "      <td>0</td>\n",
       "      <td>0</td>\n",
       "      <td>0</td>\n",
       "      <td>0</td>\n",
       "      <td>0</td>\n",
       "      <td>0</td>\n",
       "      <td>0</td>\n",
       "      <td>0</td>\n",
       "      <td>...</td>\n",
       "      <td>0</td>\n",
       "      <td>0</td>\n",
       "      <td>0</td>\n",
       "      <td>0</td>\n",
       "      <td>0</td>\n",
       "      <td>0</td>\n",
       "      <td>0</td>\n",
       "      <td>0</td>\n",
       "      <td>0</td>\n",
       "      <td>0</td>\n",
       "    </tr>\n",
       "    <tr>\n",
       "      <th>4</th>\n",
       "      <td>0</td>\n",
       "      <td>0</td>\n",
       "      <td>0</td>\n",
       "      <td>0</td>\n",
       "      <td>0</td>\n",
       "      <td>0</td>\n",
       "      <td>0</td>\n",
       "      <td>0</td>\n",
       "      <td>0</td>\n",
       "      <td>0</td>\n",
       "      <td>...</td>\n",
       "      <td>0</td>\n",
       "      <td>0</td>\n",
       "      <td>0</td>\n",
       "      <td>0</td>\n",
       "      <td>0</td>\n",
       "      <td>0</td>\n",
       "      <td>0</td>\n",
       "      <td>0</td>\n",
       "      <td>0</td>\n",
       "      <td>0</td>\n",
       "    </tr>\n",
       "  </tbody>\n",
       "</table>\n",
       "<p>5 rows × 785 columns</p>\n",
       "</div>"
      ],
      "text/plain": [
       "   label  pixel0  pixel1  pixel2  pixel3  pixel4  pixel5  pixel6  pixel7  \\\n",
       "0      1       0       0       0       0       0       0       0       0   \n",
       "1      0       0       0       0       0       0       0       0       0   \n",
       "2      1       0       0       0       0       0       0       0       0   \n",
       "3      4       0       0       0       0       0       0       0       0   \n",
       "4      0       0       0       0       0       0       0       0       0   \n",
       "\n",
       "   pixel8  ...  pixel774  pixel775  pixel776  pixel777  pixel778  pixel779  \\\n",
       "0       0  ...         0         0         0         0         0         0   \n",
       "1       0  ...         0         0         0         0         0         0   \n",
       "2       0  ...         0         0         0         0         0         0   \n",
       "3       0  ...         0         0         0         0         0         0   \n",
       "4       0  ...         0         0         0         0         0         0   \n",
       "\n",
       "   pixel780  pixel781  pixel782  pixel783  \n",
       "0         0         0         0         0  \n",
       "1         0         0         0         0  \n",
       "2         0         0         0         0  \n",
       "3         0         0         0         0  \n",
       "4         0         0         0         0  \n",
       "\n",
       "[5 rows x 785 columns]"
      ]
     },
     "execution_count": 4,
     "metadata": {},
     "output_type": "execute_result"
    }
   ],
   "source": [
    "train_data.head()\n"
   ]
  },
  {
   "cell_type": "code",
   "execution_count": 5,
   "id": "398d4d2a",
   "metadata": {
    "execution": {
     "iopub.execute_input": "2024-06-11T14:30:25.191427Z",
     "iopub.status.busy": "2024-06-11T14:30:25.191062Z",
     "iopub.status.idle": "2024-06-11T14:30:25.197998Z",
     "shell.execute_reply": "2024-06-11T14:30:25.196817Z"
    },
    "papermill": {
     "duration": 0.018081,
     "end_time": "2024-06-11T14:30:25.200800",
     "exception": false,
     "start_time": "2024-06-11T14:30:25.182719",
     "status": "completed"
    },
    "tags": []
   },
   "outputs": [],
   "source": [
    "labels = train_data['label'].values\n",
    "labels = to_categorical(labels, num_classes=10)"
   ]
  },
  {
   "cell_type": "code",
   "execution_count": 6,
   "id": "60279980",
   "metadata": {
    "execution": {
     "iopub.execute_input": "2024-06-11T14:30:25.217405Z",
     "iopub.status.busy": "2024-06-11T14:30:25.216172Z",
     "iopub.status.idle": "2024-06-11T14:30:25.337571Z",
     "shell.execute_reply": "2024-06-11T14:30:25.336235Z"
    },
    "papermill": {
     "duration": 0.133132,
     "end_time": "2024-06-11T14:30:25.340988",
     "exception": false,
     "start_time": "2024-06-11T14:30:25.207856",
     "status": "completed"
    },
    "tags": []
   },
   "outputs": [],
   "source": [
    "pixels = train_data.drop(columns=[\"label\"]).values"
   ]
  },
  {
   "cell_type": "code",
   "execution_count": 7,
   "id": "f259210e",
   "metadata": {
    "execution": {
     "iopub.execute_input": "2024-06-11T14:30:25.357155Z",
     "iopub.status.busy": "2024-06-11T14:30:25.356772Z",
     "iopub.status.idle": "2024-06-11T14:30:25.364610Z",
     "shell.execute_reply": "2024-06-11T14:30:25.363423Z"
    },
    "papermill": {
     "duration": 0.018944,
     "end_time": "2024-06-11T14:30:25.367139",
     "exception": false,
     "start_time": "2024-06-11T14:30:25.348195",
     "status": "completed"
    },
    "tags": []
   },
   "outputs": [
    {
     "data": {
      "text/plain": [
       "(42000, 10)"
      ]
     },
     "execution_count": 7,
     "metadata": {},
     "output_type": "execute_result"
    }
   ],
   "source": [
    "labels.shape"
   ]
  },
  {
   "cell_type": "code",
   "execution_count": 8,
   "id": "ddf67827",
   "metadata": {
    "execution": {
     "iopub.execute_input": "2024-06-11T14:30:25.383343Z",
     "iopub.status.busy": "2024-06-11T14:30:25.382948Z",
     "iopub.status.idle": "2024-06-11T14:30:25.390031Z",
     "shell.execute_reply": "2024-06-11T14:30:25.388844Z"
    },
    "papermill": {
     "duration": 0.018229,
     "end_time": "2024-06-11T14:30:25.392463",
     "exception": false,
     "start_time": "2024-06-11T14:30:25.374234",
     "status": "completed"
    },
    "tags": []
   },
   "outputs": [
    {
     "data": {
      "text/plain": [
       "(42000, 784)"
      ]
     },
     "execution_count": 8,
     "metadata": {},
     "output_type": "execute_result"
    }
   ],
   "source": [
    "pixels.shape"
   ]
  },
  {
   "cell_type": "code",
   "execution_count": null,
   "id": "5a1041fe",
   "metadata": {
    "papermill": {
     "duration": 0.007893,
     "end_time": "2024-06-11T14:30:25.407896",
     "exception": false,
     "start_time": "2024-06-11T14:30:25.400003",
     "status": "completed"
    },
    "tags": []
   },
   "outputs": [],
   "source": []
  },
  {
   "cell_type": "code",
   "execution_count": 9,
   "id": "21d0b249",
   "metadata": {
    "execution": {
     "iopub.execute_input": "2024-06-11T14:30:25.424279Z",
     "iopub.status.busy": "2024-06-11T14:30:25.423919Z",
     "iopub.status.idle": "2024-06-11T14:30:25.733095Z",
     "shell.execute_reply": "2024-06-11T14:30:25.731499Z"
    },
    "papermill": {
     "duration": 0.320625,
     "end_time": "2024-06-11T14:30:25.735576",
     "exception": false,
     "start_time": "2024-06-11T14:30:25.414951",
     "status": "completed"
    },
    "tags": []
   },
   "outputs": [
    {
     "name": "stdout",
     "output_type": "stream",
     "text": [
      "[0.7372549  1.         0.36862745 ... 0.29019608 0.98039216 0.23137255]\n"
     ]
    }
   ],
   "source": [
    "#Normalize to values between 0 and 1\n",
    "pixels = pixels / 255\n",
    "print(pixels[pixels>0])"
   ]
  },
  {
   "cell_type": "markdown",
   "id": "f804b6b0",
   "metadata": {
    "papermill": {
     "duration": 0.007374,
     "end_time": "2024-06-11T14:30:25.761219",
     "exception": false,
     "start_time": "2024-06-11T14:30:25.753845",
     "status": "completed"
    },
    "tags": []
   },
   "source": [
    "## Creating a simple MLP Network for the MNIST Data ##"
   ]
  },
  {
   "cell_type": "code",
   "execution_count": 10,
   "id": "7520d873",
   "metadata": {
    "execution": {
     "iopub.execute_input": "2024-06-11T14:30:25.777858Z",
     "iopub.status.busy": "2024-06-11T14:30:25.776933Z",
     "iopub.status.idle": "2024-06-11T14:30:25.884931Z",
     "shell.execute_reply": "2024-06-11T14:30:25.883897Z"
    },
    "papermill": {
     "duration": 0.118794,
     "end_time": "2024-06-11T14:30:25.887309",
     "exception": false,
     "start_time": "2024-06-11T14:30:25.768515",
     "status": "completed"
    },
    "tags": []
   },
   "outputs": [
    {
     "name": "stderr",
     "output_type": "stream",
     "text": [
      "/opt/conda/lib/python3.10/site-packages/keras/src/layers/core/dense.py:87: UserWarning: Do not pass an `input_shape`/`input_dim` argument to a layer. When using Sequential models, prefer using an `Input(shape)` object as the first layer in the model instead.\n",
      "  super().__init__(activity_regularizer=activity_regularizer, **kwargs)\n"
     ]
    }
   ],
   "source": [
    "input_shape=(784,)\n",
    "model_1 = Sequential()\n",
    "model_1.add(Dense(256,activation='relu', input_shape=input_shape))\n",
    "model_1.add(Dense(128, activation=\"relu\"))\n",
    "model_1.add(Dense(64, activation=\"relu\"))\n",
    "model_1.add(Dense(10, activation=\"softmax\"))"
   ]
  },
  {
   "cell_type": "code",
   "execution_count": 11,
   "id": "fd53dd6a",
   "metadata": {
    "execution": {
     "iopub.execute_input": "2024-06-11T14:30:25.904027Z",
     "iopub.status.busy": "2024-06-11T14:30:25.903645Z",
     "iopub.status.idle": "2024-06-11T14:30:25.920550Z",
     "shell.execute_reply": "2024-06-11T14:30:25.919180Z"
    },
    "papermill": {
     "duration": 0.028379,
     "end_time": "2024-06-11T14:30:25.923073",
     "exception": false,
     "start_time": "2024-06-11T14:30:25.894694",
     "status": "completed"
    },
    "tags": []
   },
   "outputs": [],
   "source": [
    "model_1.compile(\n",
    "    optimizer=Adam(),\n",
    "    loss=\"categorical_crossentropy\",\n",
    "    metrics=[\"accuracy\"]\n",
    ")"
   ]
  },
  {
   "cell_type": "code",
   "execution_count": 12,
   "id": "f66ca029",
   "metadata": {
    "execution": {
     "iopub.execute_input": "2024-06-11T14:30:25.939399Z",
     "iopub.status.busy": "2024-06-11T14:30:25.939041Z",
     "iopub.status.idle": "2024-06-11T14:30:25.960351Z",
     "shell.execute_reply": "2024-06-11T14:30:25.959243Z"
    },
    "papermill": {
     "duration": 0.032177,
     "end_time": "2024-06-11T14:30:25.962576",
     "exception": false,
     "start_time": "2024-06-11T14:30:25.930399",
     "status": "completed"
    },
    "tags": []
   },
   "outputs": [
    {
     "data": {
      "text/html": [
       "<pre style=\"white-space:pre;overflow-x:auto;line-height:normal;font-family:Menlo,'DejaVu Sans Mono',consolas,'Courier New',monospace\"><span style=\"font-weight: bold\">Model: \"sequential\"</span>\n",
       "</pre>\n"
      ],
      "text/plain": [
       "\u001b[1mModel: \"sequential\"\u001b[0m\n"
      ]
     },
     "metadata": {},
     "output_type": "display_data"
    },
    {
     "data": {
      "text/html": [
       "<pre style=\"white-space:pre;overflow-x:auto;line-height:normal;font-family:Menlo,'DejaVu Sans Mono',consolas,'Courier New',monospace\">┏━━━━━━━━━━━━━━━━━━━━━━━━━━━━━━━━━┳━━━━━━━━━━━━━━━━━━━━━━━━┳━━━━━━━━━━━━━━━┓\n",
       "┃<span style=\"font-weight: bold\"> Layer (type)                    </span>┃<span style=\"font-weight: bold\"> Output Shape           </span>┃<span style=\"font-weight: bold\">       Param # </span>┃\n",
       "┡━━━━━━━━━━━━━━━━━━━━━━━━━━━━━━━━━╇━━━━━━━━━━━━━━━━━━━━━━━━╇━━━━━━━━━━━━━━━┩\n",
       "│ dense (<span style=\"color: #0087ff; text-decoration-color: #0087ff\">Dense</span>)                   │ (<span style=\"color: #00d7ff; text-decoration-color: #00d7ff\">None</span>, <span style=\"color: #00af00; text-decoration-color: #00af00\">256</span>)            │       <span style=\"color: #00af00; text-decoration-color: #00af00\">200,960</span> │\n",
       "├─────────────────────────────────┼────────────────────────┼───────────────┤\n",
       "│ dense_1 (<span style=\"color: #0087ff; text-decoration-color: #0087ff\">Dense</span>)                 │ (<span style=\"color: #00d7ff; text-decoration-color: #00d7ff\">None</span>, <span style=\"color: #00af00; text-decoration-color: #00af00\">128</span>)            │        <span style=\"color: #00af00; text-decoration-color: #00af00\">32,896</span> │\n",
       "├─────────────────────────────────┼────────────────────────┼───────────────┤\n",
       "│ dense_2 (<span style=\"color: #0087ff; text-decoration-color: #0087ff\">Dense</span>)                 │ (<span style=\"color: #00d7ff; text-decoration-color: #00d7ff\">None</span>, <span style=\"color: #00af00; text-decoration-color: #00af00\">64</span>)             │         <span style=\"color: #00af00; text-decoration-color: #00af00\">8,256</span> │\n",
       "├─────────────────────────────────┼────────────────────────┼───────────────┤\n",
       "│ dense_3 (<span style=\"color: #0087ff; text-decoration-color: #0087ff\">Dense</span>)                 │ (<span style=\"color: #00d7ff; text-decoration-color: #00d7ff\">None</span>, <span style=\"color: #00af00; text-decoration-color: #00af00\">10</span>)             │           <span style=\"color: #00af00; text-decoration-color: #00af00\">650</span> │\n",
       "└─────────────────────────────────┴────────────────────────┴───────────────┘\n",
       "</pre>\n"
      ],
      "text/plain": [
       "┏━━━━━━━━━━━━━━━━━━━━━━━━━━━━━━━━━┳━━━━━━━━━━━━━━━━━━━━━━━━┳━━━━━━━━━━━━━━━┓\n",
       "┃\u001b[1m \u001b[0m\u001b[1mLayer (type)                   \u001b[0m\u001b[1m \u001b[0m┃\u001b[1m \u001b[0m\u001b[1mOutput Shape          \u001b[0m\u001b[1m \u001b[0m┃\u001b[1m \u001b[0m\u001b[1m      Param #\u001b[0m\u001b[1m \u001b[0m┃\n",
       "┡━━━━━━━━━━━━━━━━━━━━━━━━━━━━━━━━━╇━━━━━━━━━━━━━━━━━━━━━━━━╇━━━━━━━━━━━━━━━┩\n",
       "│ dense (\u001b[38;5;33mDense\u001b[0m)                   │ (\u001b[38;5;45mNone\u001b[0m, \u001b[38;5;34m256\u001b[0m)            │       \u001b[38;5;34m200,960\u001b[0m │\n",
       "├─────────────────────────────────┼────────────────────────┼───────────────┤\n",
       "│ dense_1 (\u001b[38;5;33mDense\u001b[0m)                 │ (\u001b[38;5;45mNone\u001b[0m, \u001b[38;5;34m128\u001b[0m)            │        \u001b[38;5;34m32,896\u001b[0m │\n",
       "├─────────────────────────────────┼────────────────────────┼───────────────┤\n",
       "│ dense_2 (\u001b[38;5;33mDense\u001b[0m)                 │ (\u001b[38;5;45mNone\u001b[0m, \u001b[38;5;34m64\u001b[0m)             │         \u001b[38;5;34m8,256\u001b[0m │\n",
       "├─────────────────────────────────┼────────────────────────┼───────────────┤\n",
       "│ dense_3 (\u001b[38;5;33mDense\u001b[0m)                 │ (\u001b[38;5;45mNone\u001b[0m, \u001b[38;5;34m10\u001b[0m)             │           \u001b[38;5;34m650\u001b[0m │\n",
       "└─────────────────────────────────┴────────────────────────┴───────────────┘\n"
      ]
     },
     "metadata": {},
     "output_type": "display_data"
    },
    {
     "data": {
      "text/html": [
       "<pre style=\"white-space:pre;overflow-x:auto;line-height:normal;font-family:Menlo,'DejaVu Sans Mono',consolas,'Courier New',monospace\"><span style=\"font-weight: bold\"> Total params: </span><span style=\"color: #00af00; text-decoration-color: #00af00\">242,762</span> (948.29 KB)\n",
       "</pre>\n"
      ],
      "text/plain": [
       "\u001b[1m Total params: \u001b[0m\u001b[38;5;34m242,762\u001b[0m (948.29 KB)\n"
      ]
     },
     "metadata": {},
     "output_type": "display_data"
    },
    {
     "data": {
      "text/html": [
       "<pre style=\"white-space:pre;overflow-x:auto;line-height:normal;font-family:Menlo,'DejaVu Sans Mono',consolas,'Courier New',monospace\"><span style=\"font-weight: bold\"> Trainable params: </span><span style=\"color: #00af00; text-decoration-color: #00af00\">242,762</span> (948.29 KB)\n",
       "</pre>\n"
      ],
      "text/plain": [
       "\u001b[1m Trainable params: \u001b[0m\u001b[38;5;34m242,762\u001b[0m (948.29 KB)\n"
      ]
     },
     "metadata": {},
     "output_type": "display_data"
    },
    {
     "data": {
      "text/html": [
       "<pre style=\"white-space:pre;overflow-x:auto;line-height:normal;font-family:Menlo,'DejaVu Sans Mono',consolas,'Courier New',monospace\"><span style=\"font-weight: bold\"> Non-trainable params: </span><span style=\"color: #00af00; text-decoration-color: #00af00\">0</span> (0.00 B)\n",
       "</pre>\n"
      ],
      "text/plain": [
       "\u001b[1m Non-trainable params: \u001b[0m\u001b[38;5;34m0\u001b[0m (0.00 B)\n"
      ]
     },
     "metadata": {},
     "output_type": "display_data"
    }
   ],
   "source": [
    "model_1.summary()"
   ]
  },
  {
   "cell_type": "code",
   "execution_count": 13,
   "id": "72b3d714",
   "metadata": {
    "execution": {
     "iopub.execute_input": "2024-06-11T14:30:25.980497Z",
     "iopub.status.busy": "2024-06-11T14:30:25.980131Z",
     "iopub.status.idle": "2024-06-11T14:30:25.987238Z",
     "shell.execute_reply": "2024-06-11T14:30:25.986220Z"
    },
    "papermill": {
     "duration": 0.018987,
     "end_time": "2024-06-11T14:30:25.989630",
     "exception": false,
     "start_time": "2024-06-11T14:30:25.970643",
     "status": "completed"
    },
    "tags": []
   },
   "outputs": [],
   "source": [
    "# makes sure to keep model with best weights:\n",
    "\n",
    "from tensorflow.keras.callbacks import EarlyStopping, ModelCheckpoint\n",
    "\n",
    "early_stopping = EarlyStopping(\n",
    "    monitor='val_loss',   # observe validation loss\n",
    "    patience=15,           #tolerance\n",
    "     min_delta=0.01, # bit small? but pushes result's accuracy \n",
    "    restore_best_weights=True  # keep best weights\n",
    ")"
   ]
  },
  {
   "cell_type": "code",
   "execution_count": 14,
   "id": "979a193a",
   "metadata": {
    "execution": {
     "iopub.execute_input": "2024-06-11T14:30:26.009096Z",
     "iopub.status.busy": "2024-06-11T14:30:26.008707Z",
     "iopub.status.idle": "2024-06-11T14:31:55.556998Z",
     "shell.execute_reply": "2024-06-11T14:31:55.555689Z"
    },
    "papermill": {
     "duration": 89.560651,
     "end_time": "2024-06-11T14:31:55.559847",
     "exception": false,
     "start_time": "2024-06-11T14:30:25.999196",
     "status": "completed"
    },
    "tags": []
   },
   "outputs": [
    {
     "name": "stdout",
     "output_type": "stream",
     "text": [
      "Epoch 1/30\n",
      "\u001b[1m1050/1050\u001b[0m \u001b[32m━━━━━━━━━━━━━━━━━━━━\u001b[0m\u001b[37m\u001b[0m \u001b[1m7s\u001b[0m 5ms/step - accuracy: 0.8478 - loss: 0.5009 - val_accuracy: 0.9589 - val_loss: 0.1329\n",
      "Epoch 2/30\n",
      "\u001b[1m1050/1050\u001b[0m \u001b[32m━━━━━━━━━━━━━━━━━━━━\u001b[0m\u001b[37m\u001b[0m \u001b[1m5s\u001b[0m 5ms/step - accuracy: 0.9666 - loss: 0.1115 - val_accuracy: 0.9563 - val_loss: 0.1386\n",
      "Epoch 3/30\n",
      "\u001b[1m1050/1050\u001b[0m \u001b[32m━━━━━━━━━━━━━━━━━━━━\u001b[0m\u001b[37m\u001b[0m \u001b[1m5s\u001b[0m 4ms/step - accuracy: 0.9787 - loss: 0.0670 - val_accuracy: 0.9699 - val_loss: 0.1040\n",
      "Epoch 4/30\n",
      "\u001b[1m1050/1050\u001b[0m \u001b[32m━━━━━━━━━━━━━━━━━━━━\u001b[0m\u001b[37m\u001b[0m \u001b[1m5s\u001b[0m 5ms/step - accuracy: 0.9833 - loss: 0.0518 - val_accuracy: 0.9679 - val_loss: 0.1099\n",
      "Epoch 5/30\n",
      "\u001b[1m1050/1050\u001b[0m \u001b[32m━━━━━━━━━━━━━━━━━━━━\u001b[0m\u001b[37m\u001b[0m \u001b[1m5s\u001b[0m 5ms/step - accuracy: 0.9866 - loss: 0.0401 - val_accuracy: 0.9673 - val_loss: 0.1219\n",
      "Epoch 6/30\n",
      "\u001b[1m1050/1050\u001b[0m \u001b[32m━━━━━━━━━━━━━━━━━━━━\u001b[0m\u001b[37m\u001b[0m \u001b[1m5s\u001b[0m 4ms/step - accuracy: 0.9886 - loss: 0.0342 - val_accuracy: 0.9701 - val_loss: 0.1123\n",
      "Epoch 7/30\n",
      "\u001b[1m1050/1050\u001b[0m \u001b[32m━━━━━━━━━━━━━━━━━━━━\u001b[0m\u001b[37m\u001b[0m \u001b[1m5s\u001b[0m 5ms/step - accuracy: 0.9916 - loss: 0.0256 - val_accuracy: 0.9580 - val_loss: 0.1574\n",
      "Epoch 8/30\n",
      "\u001b[1m1050/1050\u001b[0m \u001b[32m━━━━━━━━━━━━━━━━━━━━\u001b[0m\u001b[37m\u001b[0m \u001b[1m5s\u001b[0m 4ms/step - accuracy: 0.9926 - loss: 0.0237 - val_accuracy: 0.9720 - val_loss: 0.1118\n",
      "Epoch 9/30\n",
      "\u001b[1m1050/1050\u001b[0m \u001b[32m━━━━━━━━━━━━━━━━━━━━\u001b[0m\u001b[37m\u001b[0m \u001b[1m4s\u001b[0m 4ms/step - accuracy: 0.9942 - loss: 0.0212 - val_accuracy: 0.9751 - val_loss: 0.1114\n",
      "Epoch 10/30\n",
      "\u001b[1m1050/1050\u001b[0m \u001b[32m━━━━━━━━━━━━━━━━━━━━\u001b[0m\u001b[37m\u001b[0m \u001b[1m5s\u001b[0m 5ms/step - accuracy: 0.9932 - loss: 0.0185 - val_accuracy: 0.9739 - val_loss: 0.1118\n",
      "Epoch 11/30\n",
      "\u001b[1m1050/1050\u001b[0m \u001b[32m━━━━━━━━━━━━━━━━━━━━\u001b[0m\u001b[37m\u001b[0m \u001b[1m5s\u001b[0m 5ms/step - accuracy: 0.9946 - loss: 0.0168 - val_accuracy: 0.9715 - val_loss: 0.1411\n",
      "Epoch 12/30\n",
      "\u001b[1m1050/1050\u001b[0m \u001b[32m━━━━━━━━━━━━━━━━━━━━\u001b[0m\u001b[37m\u001b[0m \u001b[1m5s\u001b[0m 5ms/step - accuracy: 0.9949 - loss: 0.0146 - val_accuracy: 0.9752 - val_loss: 0.1139\n",
      "Epoch 13/30\n",
      "\u001b[1m1050/1050\u001b[0m \u001b[32m━━━━━━━━━━━━━━━━━━━━\u001b[0m\u001b[37m\u001b[0m \u001b[1m5s\u001b[0m 5ms/step - accuracy: 0.9942 - loss: 0.0176 - val_accuracy: 0.9757 - val_loss: 0.1050\n",
      "Epoch 14/30\n",
      "\u001b[1m1050/1050\u001b[0m \u001b[32m━━━━━━━━━━━━━━━━━━━━\u001b[0m\u001b[37m\u001b[0m \u001b[1m5s\u001b[0m 5ms/step - accuracy: 0.9967 - loss: 0.0098 - val_accuracy: 0.9761 - val_loss: 0.1287\n",
      "Epoch 15/30\n",
      "\u001b[1m1050/1050\u001b[0m \u001b[32m━━━━━━━━━━━━━━━━━━━━\u001b[0m\u001b[37m\u001b[0m \u001b[1m5s\u001b[0m 5ms/step - accuracy: 0.9953 - loss: 0.0152 - val_accuracy: 0.9776 - val_loss: 0.1093\n",
      "Epoch 16/30\n",
      "\u001b[1m1050/1050\u001b[0m \u001b[32m━━━━━━━━━━━━━━━━━━━━\u001b[0m\u001b[37m\u001b[0m \u001b[1m5s\u001b[0m 4ms/step - accuracy: 0.9972 - loss: 0.0084 - val_accuracy: 0.9782 - val_loss: 0.1145\n",
      "Epoch 17/30\n",
      "\u001b[1m1050/1050\u001b[0m \u001b[32m━━━━━━━━━━━━━━━━━━━━\u001b[0m\u001b[37m\u001b[0m \u001b[1m5s\u001b[0m 4ms/step - accuracy: 0.9964 - loss: 0.0122 - val_accuracy: 0.9731 - val_loss: 0.1489\n",
      "Epoch 18/30\n",
      "\u001b[1m1050/1050\u001b[0m \u001b[32m━━━━━━━━━━━━━━━━━━━━\u001b[0m\u001b[37m\u001b[0m \u001b[1m5s\u001b[0m 5ms/step - accuracy: 0.9973 - loss: 0.0083 - val_accuracy: 0.9738 - val_loss: 0.1518\n"
     ]
    }
   ],
   "source": [
    "history = model_1.fit(\n",
    "    pixels,\n",
    "    labels,\n",
    "    epochs=30,\n",
    "    batch_size=32,\n",
    "    validation_split=0.2,\n",
    "    callbacks=[early_stopping]\n",
    ")"
   ]
  },
  {
   "cell_type": "markdown",
   "id": "03618e4d",
   "metadata": {
    "papermill": {
     "duration": 0.107803,
     "end_time": "2024-06-11T14:31:55.776630",
     "exception": false,
     "start_time": "2024-06-11T14:31:55.668827",
     "status": "completed"
    },
    "tags": []
   },
   "source": [
    "### Results ###"
   ]
  },
  {
   "cell_type": "code",
   "execution_count": 15,
   "id": "2f288415",
   "metadata": {
    "execution": {
     "iopub.execute_input": "2024-06-11T14:31:56.071780Z",
     "iopub.status.busy": "2024-06-11T14:31:56.071363Z",
     "iopub.status.idle": "2024-06-11T14:31:56.686079Z",
     "shell.execute_reply": "2024-06-11T14:31:56.684754Z"
    },
    "papermill": {
     "duration": 0.729968,
     "end_time": "2024-06-11T14:31:56.688605",
     "exception": false,
     "start_time": "2024-06-11T14:31:55.958637",
     "status": "completed"
    },
    "tags": []
   },
   "outputs": [
    {
     "data": {
      "image/png": "[encoded data removed]",
      "text/plain": [
       "<Figure size 1200x400 with 2 Axes>"
      ]
     },
     "metadata": {},
     "output_type": "display_data"
    }
   ],
   "source": [
    "import matplotlib.pyplot as plt\n",
    "\n",
    "# plotting loss\n",
    "plt.figure(figsize=(12, 4))\n",
    "plt.subplot(1, 2, 1)\n",
    "plt.plot(history.history['loss'], label='train_loss')\n",
    "plt.plot(history.history['val_loss'], label='val_loss')\n",
    "plt.xlabel('Epochs')\n",
    "plt.ylabel('Loss')\n",
    "plt.title('Training and Validation Loss')\n",
    "plt.legend()\n",
    "\n",
    "# plotting Accuracies\n",
    "plt.subplot(1, 2, 2)\n",
    "plt.plot(history.history['accuracy'], label='train_accuracy')\n",
    "plt.plot(history.history['val_accuracy'], label='val_accuracy')\n",
    "plt.xlabel('Epochs')\n",
    "plt.ylabel('Accuracy')\n",
    "plt.title('Training and Validation Accuracy')\n",
    "plt.legend()\n",
    "\n",
    "plt.show()\n"
   ]
  },
  {
   "cell_type": "markdown",
   "id": "167f0442",
   "metadata": {
    "papermill": {
     "duration": 0.117886,
     "end_time": "2024-06-11T14:31:56.921088",
     "exception": false,
     "start_time": "2024-06-11T14:31:56.803202",
     "status": "completed"
    },
    "tags": []
   },
   "source": [
    "plots look a bit unusual because early stopping stops within first few epochs but difference between training and validation isn't as big as it seems first sight. "
   ]
  },
  {
   "cell_type": "markdown",
   "id": "4343c01e",
   "metadata": {
    "papermill": {
     "duration": 0.112858,
     "end_time": "2024-06-11T14:31:57.150309",
     "exception": false,
     "start_time": "2024-06-11T14:31:57.037451",
     "status": "completed"
    },
    "tags": []
   },
   "source": [
    "# Creating a CNN for MNIST dataset "
   ]
  },
  {
   "cell_type": "code",
   "execution_count": 16,
   "id": "e1fd8916",
   "metadata": {
    "execution": {
     "iopub.execute_input": "2024-06-11T14:31:57.380951Z",
     "iopub.status.busy": "2024-06-11T14:31:57.380557Z",
     "iopub.status.idle": "2024-06-11T14:31:57.387506Z",
     "shell.execute_reply": "2024-06-11T14:31:57.386357Z"
    },
    "papermill": {
     "duration": 0.124083,
     "end_time": "2024-06-11T14:31:57.389743",
     "exception": false,
     "start_time": "2024-06-11T14:31:57.265660",
     "status": "completed"
    },
    "tags": []
   },
   "outputs": [
    {
     "data": {
      "text/plain": [
       "(42000, 784)"
      ]
     },
     "execution_count": 16,
     "metadata": {},
     "output_type": "execute_result"
    }
   ],
   "source": [
    "pixels.shape"
   ]
  },
  {
   "cell_type": "code",
   "execution_count": 17,
   "id": "2421c493",
   "metadata": {
    "execution": {
     "iopub.execute_input": "2024-06-11T14:31:57.623060Z",
     "iopub.status.busy": "2024-06-11T14:31:57.622616Z",
     "iopub.status.idle": "2024-06-11T14:31:57.628008Z",
     "shell.execute_reply": "2024-06-11T14:31:57.626817Z"
    },
    "papermill": {
     "duration": 0.126454,
     "end_time": "2024-06-11T14:31:57.630370",
     "exception": false,
     "start_time": "2024-06-11T14:31:57.503916",
     "status": "completed"
    },
    "tags": []
   },
   "outputs": [],
   "source": [
    "#CNN will need 2d data  \n",
    "pixels2d = pixels.reshape(-1,28,28,1) # 4args: flex ,28x28, 1 channel (bc grey levels, not rgb)"
   ]
  },
  {
   "cell_type": "code",
   "execution_count": 18,
   "id": "5eb0711b",
   "metadata": {
    "execution": {
     "iopub.execute_input": "2024-06-11T14:31:57.862038Z",
     "iopub.status.busy": "2024-06-11T14:31:57.861445Z",
     "iopub.status.idle": "2024-06-11T14:31:57.866978Z",
     "shell.execute_reply": "2024-06-11T14:31:57.865676Z"
    },
    "papermill": {
     "duration": 0.126202,
     "end_time": "2024-06-11T14:31:57.869339",
     "exception": false,
     "start_time": "2024-06-11T14:31:57.743137",
     "status": "completed"
    },
    "tags": []
   },
   "outputs": [],
   "source": [
    "input_shape= pixels2d.shape[1:] #exclude number of pictures (previously flex)"
   ]
  },
  {
   "cell_type": "code",
   "execution_count": 19,
   "id": "d9dce8ad",
   "metadata": {
    "execution": {
     "iopub.execute_input": "2024-06-11T14:31:58.093654Z",
     "iopub.status.busy": "2024-06-11T14:31:58.093233Z",
     "iopub.status.idle": "2024-06-11T14:31:58.174465Z",
     "shell.execute_reply": "2024-06-11T14:31:58.173123Z"
    },
    "papermill": {
     "duration": 0.195388,
     "end_time": "2024-06-11T14:31:58.177201",
     "exception": false,
     "start_time": "2024-06-11T14:31:57.981813",
     "status": "completed"
    },
    "tags": []
   },
   "outputs": [
    {
     "name": "stderr",
     "output_type": "stream",
     "text": [
      "/opt/conda/lib/python3.10/site-packages/keras/src/layers/convolutional/base_conv.py:107: UserWarning: Do not pass an `input_shape`/`input_dim` argument to a layer. When using Sequential models, prefer using an `Input(shape)` object as the first layer in the model instead.\n",
      "  super().__init__(activity_regularizer=activity_regularizer, **kwargs)\n"
     ]
    }
   ],
   "source": [
    "kernel_size = (3,3)\n",
    "\n",
    "model_2 = Sequential()\n",
    "\n",
    "# base\n",
    "\n",
    "#1st conv+maxpooling block\n",
    "model_2.add(Conv2D(filters=32, kernel_size=kernel_size, activation='relu', input_shape=input_shape))\n",
    "model_2.add(MaxPooling2D(pool_size=(2,2)))\n",
    "#2nd to conv+maxpooling block\n",
    "model_2.add(Conv2D(filters=32, kernel_size=kernel_size, activation='relu'))\n",
    "model_2.add(MaxPooling2D(pool_size=(2,2)))\n",
    "\n",
    "model_2.add(Flatten())\n",
    "\n",
    "#head (makes decision based on preprocessing made by base)\n",
    "model_2.add(Dense(16, activation=\"relu\"))\n",
    "model_2.add(Dense(10, activation=\"softmax\"))\n"
   ]
  },
  {
   "cell_type": "code",
   "execution_count": 20,
   "id": "68711bad",
   "metadata": {
    "execution": {
     "iopub.execute_input": "2024-06-11T14:31:58.407644Z",
     "iopub.status.busy": "2024-06-11T14:31:58.406701Z",
     "iopub.status.idle": "2024-06-11T14:31:58.437067Z",
     "shell.execute_reply": "2024-06-11T14:31:58.435960Z"
    },
    "papermill": {
     "duration": 0.147647,
     "end_time": "2024-06-11T14:31:58.439276",
     "exception": false,
     "start_time": "2024-06-11T14:31:58.291629",
     "status": "completed"
    },
    "tags": []
   },
   "outputs": [
    {
     "data": {
      "text/html": [
       "<pre style=\"white-space:pre;overflow-x:auto;line-height:normal;font-family:Menlo,'DejaVu Sans Mono',consolas,'Courier New',monospace\"><span style=\"font-weight: bold\">Model: \"sequential_1\"</span>\n",
       "</pre>\n"
      ],
      "text/plain": [
       "\u001b[1mModel: \"sequential_1\"\u001b[0m\n"
      ]
     },
     "metadata": {},
     "output_type": "display_data"
    },
    {
     "data": {
      "text/html": [
       "<pre style=\"white-space:pre;overflow-x:auto;line-height:normal;font-family:Menlo,'DejaVu Sans Mono',consolas,'Courier New',monospace\">┏━━━━━━━━━━━━━━━━━━━━━━━━━━━━━━━━━┳━━━━━━━━━━━━━━━━━━━━━━━━┳━━━━━━━━━━━━━━━┓\n",
       "┃<span style=\"font-weight: bold\"> Layer (type)                    </span>┃<span style=\"font-weight: bold\"> Output Shape           </span>┃<span style=\"font-weight: bold\">       Param # </span>┃\n",
       "┡━━━━━━━━━━━━━━━━━━━━━━━━━━━━━━━━━╇━━━━━━━━━━━━━━━━━━━━━━━━╇━━━━━━━━━━━━━━━┩\n",
       "│ conv2d (<span style=\"color: #0087ff; text-decoration-color: #0087ff\">Conv2D</span>)                 │ (<span style=\"color: #00d7ff; text-decoration-color: #00d7ff\">None</span>, <span style=\"color: #00af00; text-decoration-color: #00af00\">26</span>, <span style=\"color: #00af00; text-decoration-color: #00af00\">26</span>, <span style=\"color: #00af00; text-decoration-color: #00af00\">32</span>)     │           <span style=\"color: #00af00; text-decoration-color: #00af00\">320</span> │\n",
       "├─────────────────────────────────┼────────────────────────┼───────────────┤\n",
       "│ max_pooling2d (<span style=\"color: #0087ff; text-decoration-color: #0087ff\">MaxPooling2D</span>)    │ (<span style=\"color: #00d7ff; text-decoration-color: #00d7ff\">None</span>, <span style=\"color: #00af00; text-decoration-color: #00af00\">13</span>, <span style=\"color: #00af00; text-decoration-color: #00af00\">13</span>, <span style=\"color: #00af00; text-decoration-color: #00af00\">32</span>)     │             <span style=\"color: #00af00; text-decoration-color: #00af00\">0</span> │\n",
       "├─────────────────────────────────┼────────────────────────┼───────────────┤\n",
       "│ conv2d_1 (<span style=\"color: #0087ff; text-decoration-color: #0087ff\">Conv2D</span>)               │ (<span style=\"color: #00d7ff; text-decoration-color: #00d7ff\">None</span>, <span style=\"color: #00af00; text-decoration-color: #00af00\">11</span>, <span style=\"color: #00af00; text-decoration-color: #00af00\">11</span>, <span style=\"color: #00af00; text-decoration-color: #00af00\">32</span>)     │         <span style=\"color: #00af00; text-decoration-color: #00af00\">9,248</span> │\n",
       "├─────────────────────────────────┼────────────────────────┼───────────────┤\n",
       "│ max_pooling2d_1 (<span style=\"color: #0087ff; text-decoration-color: #0087ff\">MaxPooling2D</span>)  │ (<span style=\"color: #00d7ff; text-decoration-color: #00d7ff\">None</span>, <span style=\"color: #00af00; text-decoration-color: #00af00\">5</span>, <span style=\"color: #00af00; text-decoration-color: #00af00\">5</span>, <span style=\"color: #00af00; text-decoration-color: #00af00\">32</span>)       │             <span style=\"color: #00af00; text-decoration-color: #00af00\">0</span> │\n",
       "├─────────────────────────────────┼────────────────────────┼───────────────┤\n",
       "│ flatten (<span style=\"color: #0087ff; text-decoration-color: #0087ff\">Flatten</span>)               │ (<span style=\"color: #00d7ff; text-decoration-color: #00d7ff\">None</span>, <span style=\"color: #00af00; text-decoration-color: #00af00\">800</span>)            │             <span style=\"color: #00af00; text-decoration-color: #00af00\">0</span> │\n",
       "├─────────────────────────────────┼────────────────────────┼───────────────┤\n",
       "│ dense_4 (<span style=\"color: #0087ff; text-decoration-color: #0087ff\">Dense</span>)                 │ (<span style=\"color: #00d7ff; text-decoration-color: #00d7ff\">None</span>, <span style=\"color: #00af00; text-decoration-color: #00af00\">16</span>)             │        <span style=\"color: #00af00; text-decoration-color: #00af00\">12,816</span> │\n",
       "├─────────────────────────────────┼────────────────────────┼───────────────┤\n",
       "│ dense_5 (<span style=\"color: #0087ff; text-decoration-color: #0087ff\">Dense</span>)                 │ (<span style=\"color: #00d7ff; text-decoration-color: #00d7ff\">None</span>, <span style=\"color: #00af00; text-decoration-color: #00af00\">10</span>)             │           <span style=\"color: #00af00; text-decoration-color: #00af00\">170</span> │\n",
       "└─────────────────────────────────┴────────────────────────┴───────────────┘\n",
       "</pre>\n"
      ],
      "text/plain": [
       "┏━━━━━━━━━━━━━━━━━━━━━━━━━━━━━━━━━┳━━━━━━━━━━━━━━━━━━━━━━━━┳━━━━━━━━━━━━━━━┓\n",
       "┃\u001b[1m \u001b[0m\u001b[1mLayer (type)                   \u001b[0m\u001b[1m \u001b[0m┃\u001b[1m \u001b[0m\u001b[1mOutput Shape          \u001b[0m\u001b[1m \u001b[0m┃\u001b[1m \u001b[0m\u001b[1m      Param #\u001b[0m\u001b[1m \u001b[0m┃\n",
       "┡━━━━━━━━━━━━━━━━━━━━━━━━━━━━━━━━━╇━━━━━━━━━━━━━━━━━━━━━━━━╇━━━━━━━━━━━━━━━┩\n",
       "│ conv2d (\u001b[38;5;33mConv2D\u001b[0m)                 │ (\u001b[38;5;45mNone\u001b[0m, \u001b[38;5;34m26\u001b[0m, \u001b[38;5;34m26\u001b[0m, \u001b[38;5;34m32\u001b[0m)     │           \u001b[38;5;34m320\u001b[0m │\n",
       "├─────────────────────────────────┼────────────────────────┼───────────────┤\n",
       "│ max_pooling2d (\u001b[38;5;33mMaxPooling2D\u001b[0m)    │ (\u001b[38;5;45mNone\u001b[0m, \u001b[38;5;34m13\u001b[0m, \u001b[38;5;34m13\u001b[0m, \u001b[38;5;34m32\u001b[0m)     │             \u001b[38;5;34m0\u001b[0m │\n",
       "├─────────────────────────────────┼────────────────────────┼───────────────┤\n",
       "│ conv2d_1 (\u001b[38;5;33mConv2D\u001b[0m)               │ (\u001b[38;5;45mNone\u001b[0m, \u001b[38;5;34m11\u001b[0m, \u001b[38;5;34m11\u001b[0m, \u001b[38;5;34m32\u001b[0m)     │         \u001b[38;5;34m9,248\u001b[0m │\n",
       "├─────────────────────────────────┼────────────────────────┼───────────────┤\n",
       "│ max_pooling2d_1 (\u001b[38;5;33mMaxPooling2D\u001b[0m)  │ (\u001b[38;5;45mNone\u001b[0m, \u001b[38;5;34m5\u001b[0m, \u001b[38;5;34m5\u001b[0m, \u001b[38;5;34m32\u001b[0m)       │             \u001b[38;5;34m0\u001b[0m │\n",
       "├─────────────────────────────────┼────────────────────────┼───────────────┤\n",
       "│ flatten (\u001b[38;5;33mFlatten\u001b[0m)               │ (\u001b[38;5;45mNone\u001b[0m, \u001b[38;5;34m800\u001b[0m)            │             \u001b[38;5;34m0\u001b[0m │\n",
       "├─────────────────────────────────┼────────────────────────┼───────────────┤\n",
       "│ dense_4 (\u001b[38;5;33mDense\u001b[0m)                 │ (\u001b[38;5;45mNone\u001b[0m, \u001b[38;5;34m16\u001b[0m)             │        \u001b[38;5;34m12,816\u001b[0m │\n",
       "├─────────────────────────────────┼────────────────────────┼───────────────┤\n",
       "│ dense_5 (\u001b[38;5;33mDense\u001b[0m)                 │ (\u001b[38;5;45mNone\u001b[0m, \u001b[38;5;34m10\u001b[0m)             │           \u001b[38;5;34m170\u001b[0m │\n",
       "└─────────────────────────────────┴────────────────────────┴───────────────┘\n"
      ]
     },
     "metadata": {},
     "output_type": "display_data"
    },
    {
     "data": {
      "text/html": [
       "<pre style=\"white-space:pre;overflow-x:auto;line-height:normal;font-family:Menlo,'DejaVu Sans Mono',consolas,'Courier New',monospace\"><span style=\"font-weight: bold\"> Total params: </span><span style=\"color: #00af00; text-decoration-color: #00af00\">22,554</span> (88.10 KB)\n",
       "</pre>\n"
      ],
      "text/plain": [
       "\u001b[1m Total params: \u001b[0m\u001b[38;5;34m22,554\u001b[0m (88.10 KB)\n"
      ]
     },
     "metadata": {},
     "output_type": "display_data"
    },
    {
     "data": {
      "text/html": [
       "<pre style=\"white-space:pre;overflow-x:auto;line-height:normal;font-family:Menlo,'DejaVu Sans Mono',consolas,'Courier New',monospace\"><span style=\"font-weight: bold\"> Trainable params: </span><span style=\"color: #00af00; text-decoration-color: #00af00\">22,554</span> (88.10 KB)\n",
       "</pre>\n"
      ],
      "text/plain": [
       "\u001b[1m Trainable params: \u001b[0m\u001b[38;5;34m22,554\u001b[0m (88.10 KB)\n"
      ]
     },
     "metadata": {},
     "output_type": "display_data"
    },
    {
     "data": {
      "text/html": [
       "<pre style=\"white-space:pre;overflow-x:auto;line-height:normal;font-family:Menlo,'DejaVu Sans Mono',consolas,'Courier New',monospace\"><span style=\"font-weight: bold\"> Non-trainable params: </span><span style=\"color: #00af00; text-decoration-color: #00af00\">0</span> (0.00 B)\n",
       "</pre>\n"
      ],
      "text/plain": [
       "\u001b[1m Non-trainable params: \u001b[0m\u001b[38;5;34m0\u001b[0m (0.00 B)\n"
      ]
     },
     "metadata": {},
     "output_type": "display_data"
    }
   ],
   "source": [
    "model_2.compile(\n",
    "    optimizer=Adam(),\n",
    "    loss='categorical_crossentropy',\n",
    "    metrics=['accuracy']\n",
    ")\n",
    "\n",
    "model_2.summary()"
   ]
  },
  {
   "cell_type": "code",
   "execution_count": 21,
   "id": "6fa12706",
   "metadata": {
    "execution": {
     "iopub.execute_input": "2024-06-11T14:31:58.663691Z",
     "iopub.status.busy": "2024-06-11T14:31:58.663273Z",
     "iopub.status.idle": "2024-06-11T14:37:45.173075Z",
     "shell.execute_reply": "2024-06-11T14:37:45.171639Z"
    },
    "papermill": {
     "duration": 346.625344,
     "end_time": "2024-06-11T14:37:45.175671",
     "exception": false,
     "start_time": "2024-06-11T14:31:58.550327",
     "status": "completed"
    },
    "tags": []
   },
   "outputs": [
    {
     "name": "stdout",
     "output_type": "stream",
     "text": [
      "Epoch 1/50\n",
      "\u001b[1m1050/1050\u001b[0m \u001b[32m━━━━━━━━━━━━━━━━━━━━\u001b[0m\u001b[37m\u001b[0m \u001b[1m16s\u001b[0m 14ms/step - accuracy: 0.7888 - loss: 0.6783 - val_accuracy: 0.9640 - val_loss: 0.1114\n",
      "Epoch 2/50\n",
      "\u001b[1m1050/1050\u001b[0m \u001b[32m━━━━━━━━━━━━━━━━━━━━\u001b[0m\u001b[37m\u001b[0m \u001b[1m14s\u001b[0m 14ms/step - accuracy: 0.9677 - loss: 0.1066 - val_accuracy: 0.9775 - val_loss: 0.0741\n",
      "Epoch 3/50\n",
      "\u001b[1m1050/1050\u001b[0m \u001b[32m━━━━━━━━━━━━━━━━━━━━\u001b[0m\u001b[37m\u001b[0m \u001b[1m15s\u001b[0m 14ms/step - accuracy: 0.9776 - loss: 0.0730 - val_accuracy: 0.9832 - val_loss: 0.0567\n",
      "Epoch 4/50\n",
      "\u001b[1m1050/1050\u001b[0m \u001b[32m━━━━━━━━━━━━━━━━━━━━\u001b[0m\u001b[37m\u001b[0m \u001b[1m14s\u001b[0m 13ms/step - accuracy: 0.9829 - loss: 0.0550 - val_accuracy: 0.9837 - val_loss: 0.0551\n",
      "Epoch 5/50\n",
      "\u001b[1m1050/1050\u001b[0m \u001b[32m━━━━━━━━━━━━━━━━━━━━\u001b[0m\u001b[37m\u001b[0m \u001b[1m15s\u001b[0m 14ms/step - accuracy: 0.9860 - loss: 0.0441 - val_accuracy: 0.9833 - val_loss: 0.0567\n",
      "Epoch 6/50\n",
      "\u001b[1m1050/1050\u001b[0m \u001b[32m━━━━━━━━━━━━━━━━━━━━\u001b[0m\u001b[37m\u001b[0m \u001b[1m14s\u001b[0m 13ms/step - accuracy: 0.9884 - loss: 0.0382 - val_accuracy: 0.9813 - val_loss: 0.0644\n",
      "Epoch 7/50\n",
      "\u001b[1m1050/1050\u001b[0m \u001b[32m━━━━━━━━━━━━━━━━━━━━\u001b[0m\u001b[37m\u001b[0m \u001b[1m14s\u001b[0m 14ms/step - accuracy: 0.9906 - loss: 0.0338 - val_accuracy: 0.9857 - val_loss: 0.0470\n",
      "Epoch 8/50\n",
      "\u001b[1m1050/1050\u001b[0m \u001b[32m━━━━━━━━━━━━━━━━━━━━\u001b[0m\u001b[37m\u001b[0m \u001b[1m14s\u001b[0m 13ms/step - accuracy: 0.9915 - loss: 0.0260 - val_accuracy: 0.9855 - val_loss: 0.0509\n",
      "Epoch 9/50\n",
      "\u001b[1m1050/1050\u001b[0m \u001b[32m━━━━━━━━━━━━━━━━━━━━\u001b[0m\u001b[37m\u001b[0m \u001b[1m14s\u001b[0m 14ms/step - accuracy: 0.9919 - loss: 0.0215 - val_accuracy: 0.9871 - val_loss: 0.0464\n",
      "Epoch 10/50\n",
      "\u001b[1m1050/1050\u001b[0m \u001b[32m━━━━━━━━━━━━━━━━━━━━\u001b[0m\u001b[37m\u001b[0m \u001b[1m14s\u001b[0m 13ms/step - accuracy: 0.9948 - loss: 0.0176 - val_accuracy: 0.9836 - val_loss: 0.0614\n",
      "Epoch 11/50\n",
      "\u001b[1m1050/1050\u001b[0m \u001b[32m━━━━━━━━━━━━━━━━━━━━\u001b[0m\u001b[37m\u001b[0m \u001b[1m14s\u001b[0m 13ms/step - accuracy: 0.9954 - loss: 0.0151 - val_accuracy: 0.9843 - val_loss: 0.0620\n",
      "Epoch 12/50\n",
      "\u001b[1m1050/1050\u001b[0m \u001b[32m━━━━━━━━━━━━━━━━━━━━\u001b[0m\u001b[37m\u001b[0m \u001b[1m14s\u001b[0m 14ms/step - accuracy: 0.9951 - loss: 0.0141 - val_accuracy: 0.9840 - val_loss: 0.0580\n",
      "Epoch 13/50\n",
      "\u001b[1m1050/1050\u001b[0m \u001b[32m━━━━━━━━━━━━━━━━━━━━\u001b[0m\u001b[37m\u001b[0m \u001b[1m14s\u001b[0m 14ms/step - accuracy: 0.9952 - loss: 0.0131 - val_accuracy: 0.9870 - val_loss: 0.0596\n",
      "Epoch 14/50\n",
      "\u001b[1m1050/1050\u001b[0m \u001b[32m━━━━━━━━━━━━━━━━━━━━\u001b[0m\u001b[37m\u001b[0m \u001b[1m14s\u001b[0m 14ms/step - accuracy: 0.9972 - loss: 0.0088 - val_accuracy: 0.9843 - val_loss: 0.0655\n",
      "Epoch 15/50\n",
      "\u001b[1m1050/1050\u001b[0m \u001b[32m━━━━━━━━━━━━━━━━━━━━\u001b[0m\u001b[37m\u001b[0m \u001b[1m14s\u001b[0m 13ms/step - accuracy: 0.9972 - loss: 0.0086 - val_accuracy: 0.9868 - val_loss: 0.0568\n",
      "Epoch 16/50\n",
      "\u001b[1m1050/1050\u001b[0m \u001b[32m━━━━━━━━━━━━━━━━━━━━\u001b[0m\u001b[37m\u001b[0m \u001b[1m14s\u001b[0m 14ms/step - accuracy: 0.9971 - loss: 0.0084 - val_accuracy: 0.9858 - val_loss: 0.0686\n",
      "Epoch 17/50\n",
      "\u001b[1m1050/1050\u001b[0m \u001b[32m━━━━━━━━━━━━━━━━━━━━\u001b[0m\u001b[37m\u001b[0m \u001b[1m14s\u001b[0m 13ms/step - accuracy: 0.9980 - loss: 0.0060 - val_accuracy: 0.9879 - val_loss: 0.0584\n",
      "Epoch 18/50\n",
      "\u001b[1m1050/1050\u001b[0m \u001b[32m━━━━━━━━━━━━━━━━━━━━\u001b[0m\u001b[37m\u001b[0m \u001b[1m14s\u001b[0m 13ms/step - accuracy: 0.9983 - loss: 0.0060 - val_accuracy: 0.9846 - val_loss: 0.0770\n",
      "Epoch 19/50\n",
      "\u001b[1m1050/1050\u001b[0m \u001b[32m━━━━━━━━━━━━━━━━━━━━\u001b[0m\u001b[37m\u001b[0m \u001b[1m14s\u001b[0m 14ms/step - accuracy: 0.9975 - loss: 0.0076 - val_accuracy: 0.9879 - val_loss: 0.0567\n",
      "Epoch 20/50\n",
      "\u001b[1m1050/1050\u001b[0m \u001b[32m━━━━━━━━━━━━━━━━━━━━\u001b[0m\u001b[37m\u001b[0m \u001b[1m14s\u001b[0m 14ms/step - accuracy: 0.9975 - loss: 0.0064 - val_accuracy: 0.9887 - val_loss: 0.0594\n",
      "Epoch 21/50\n",
      "\u001b[1m1050/1050\u001b[0m \u001b[32m━━━━━━━━━━━━━━━━━━━━\u001b[0m\u001b[37m\u001b[0m \u001b[1m15s\u001b[0m 14ms/step - accuracy: 0.9986 - loss: 0.0049 - val_accuracy: 0.9874 - val_loss: 0.0762\n",
      "Epoch 22/50\n",
      "\u001b[1m1050/1050\u001b[0m \u001b[32m━━━━━━━━━━━━━━━━━━━━\u001b[0m\u001b[37m\u001b[0m \u001b[1m14s\u001b[0m 13ms/step - accuracy: 0.9984 - loss: 0.0053 - val_accuracy: 0.9855 - val_loss: 0.0781\n",
      "Epoch 23/50\n",
      "\u001b[1m1050/1050\u001b[0m \u001b[32m━━━━━━━━━━━━━━━━━━━━\u001b[0m\u001b[37m\u001b[0m \u001b[1m14s\u001b[0m 14ms/step - accuracy: 0.9988 - loss: 0.0037 - val_accuracy: 0.9864 - val_loss: 0.0810\n",
      "Epoch 24/50\n",
      "\u001b[1m1050/1050\u001b[0m \u001b[32m━━━━━━━━━━━━━━━━━━━━\u001b[0m\u001b[37m\u001b[0m \u001b[1m16s\u001b[0m 15ms/step - accuracy: 0.9992 - loss: 0.0033 - val_accuracy: 0.9875 - val_loss: 0.0763\n"
     ]
    }
   ],
   "source": [
    "history = model_2.fit(\n",
    "    pixels2d,\n",
    "    labels,\n",
    "    epochs=50,\n",
    "    batch_size=32,\n",
    "    validation_split=0.2,\n",
    "    callbacks=[early_stopping]\n",
    ")"
   ]
  },
  {
   "cell_type": "code",
   "execution_count": 22,
   "id": "7a7a2000",
   "metadata": {
    "execution": {
     "iopub.execute_input": "2024-06-11T14:37:46.264035Z",
     "iopub.status.busy": "2024-06-11T14:37:46.263618Z",
     "iopub.status.idle": "2024-06-11T14:37:46.731942Z",
     "shell.execute_reply": "2024-06-11T14:37:46.730630Z"
    },
    "papermill": {
     "duration": 1.037769,
     "end_time": "2024-06-11T14:37:46.734859",
     "exception": false,
     "start_time": "2024-06-11T14:37:45.697090",
     "status": "completed"
    },
    "tags": []
   },
   "outputs": [
    {
     "data": {
      "image/png": "[encoded data removed]",
      "text/plain": [
       "<Figure size 1200x400 with 2 Axes>"
      ]
     },
     "metadata": {},
     "output_type": "display_data"
    }
   ],
   "source": [
    "\n",
    "# plotting loss\n",
    "plt.figure(figsize=(12, 4))\n",
    "plt.subplot(1, 2, 1)\n",
    "plt.plot(history.history['loss'], label='train_loss')\n",
    "plt.plot(history.history['val_loss'], label='val_loss')\n",
    "plt.xlabel('Epochs')\n",
    "plt.ylabel('Loss')\n",
    "plt.title('Training and Validation Loss')\n",
    "plt.legend()\n",
    "\n",
    "# plotting Accuracies\n",
    "plt.subplot(1, 2, 2)\n",
    "plt.plot(history.history['accuracy'], label='train_accuracy')\n",
    "plt.plot(history.history['val_accuracy'], label='val_accuracy')\n",
    "plt.xlabel('Epochs')\n",
    "plt.ylabel('Accuracy')\n",
    "plt.title('Training and Validation Accuracy')\n",
    "plt.legend()\n",
    "\n",
    "plt.show()"
   ]
  },
  {
   "cell_type": "code",
   "execution_count": null,
   "id": "b6a6f8de",
   "metadata": {
    "papermill": {
     "duration": 0.503164,
     "end_time": "2024-06-11T14:37:47.760401",
     "exception": false,
     "start_time": "2024-06-11T14:37:47.257237",
     "status": "completed"
    },
    "tags": []
   },
   "outputs": [],
   "source": []
  }
 ],
 "metadata": {
  "kaggle": {
   "accelerator": "none",
   "dataSources": [
    {
     "databundleVersionId": 861823,
     "sourceId": 3004,
     "sourceType": "competition"
    }
   ],
   "dockerImageVersionId": 30732,
   "isGpuEnabled": false,
   "isInternetEnabled": false,
   "language": "python",
   "sourceType": "notebook"
  },
  "kernelspec": {
   "display_name": "Python 3",
   "language": "python",
   "name": "python3"
  },
  "language_info": {
   "codemirror_mode": {
    "name": "ipython",
    "version": 3
   },
   "file_extension": ".py",
   "mimetype": "text/x-python",
   "name": "python",
   "nbconvert_exporter": "python",
   "pygments_lexer": "ipython3",
   "version": "3.10.13"
  },
  "papermill": {
   "default_parameters": {},
   "duration": 469.554972,
   "end_time": "2024-06-11T14:37:50.082446",
   "environment_variables": {},
   "exception": null,
   "input_path": "__notebook__.ipynb",
   "output_path": "__notebook__.ipynb",
   "parameters": {},
   "start_time": "2024-06-11T14:30:00.527474",
   "version": "2.5.0"
  }
 },
 "nbformat": 4,
 "nbformat_minor": 5
}
